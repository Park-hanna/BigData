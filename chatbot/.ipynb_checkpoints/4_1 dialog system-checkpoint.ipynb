{
 "cells": [
  {
   "cell_type": "code",
   "execution_count": 1,
   "id": "f66200a3-2a68-43a3-a063-873316325805",
   "metadata": {},
   "outputs": [],
   "source": [
    "import os\n",
    "import sys\n",
    "import json\n",
    "import random\n",
    "import pandas as pd\n",
    "import numpy as np\n",
    "from collections import deque\n",
    "from src.model import BiLSTM_CRF, MakeEmbed, textCNN, EpochLogger, save\n",
    "from src.dataset import Preprocessing, MakeDataset\n",
    "from src.NLU import NaturalLanguageUnderstanding\n",
    "from src.DM import DialogManager, E2E_dialog"
   ]
  },
  {
   "cell_type": "code",
   "execution_count": 4,
   "id": "a4aa9fe1-ad90-43c6-aab1-426c22cbe482",
   "metadata": {},
   "outputs": [],
   "source": [
    "class DialogSystem:\n",
    "    def __init__(self):\n",
    "        entity_pretrain_path = './chatbot_data/pretraining/1_entity_recog_model/entity_recog_20.89_steps_2.pt'\n",
    "        intent_pretrain_path = './chatbot_data/pretraining/1_intent_clsf_model/intent_clsf_99.585_steps_7.pt'\n",
    "        ood_pretrain_path = './chatbot_data/pretraining/1_ood_clsf_model/ood_clsf_99.663_steps_4.pt'\n",
    "        chitchat_pretrain_path = './chatbot_data/pretraining/4_chitchat_trasnformer_model/chitchat_transformer_0.035401_steps_69.pt'\n",
    "        \n",
    "        self.NLU = NaturalLanguageUnderstanding()\n",
    "        \n",
    "        self.NLU.model_load(intent_pretrain_path, entity_pretrain_path, ood_pretrain_path)\n",
    "        self.dm = DialogManager()\n",
    "        \n",
    "        self.e2e = E2E_dialog(self.NLU.dataset, chitchat_pretrain_path)\n",
    "        \n",
    "        self.result = {\n",
    "            'DM_result' : {},\n",
    "            'E2E_result' : [],\n",
    "            'NLG' : \"\",\n",
    "        }\n",
    "        \n",
    "    def task_oriented_dialog_system(self, q):\n",
    "        NLU_result = self.NLU.run(q)\n",
    "        \n",
    "        system_response = self.dm.run(NLU_result)\n",
    "        return system_response\n",
    "    \n",
    "    def chit_chat_dialog_system(self, q):\n",
    "        system_response = self.e2e.predict(q)\n",
    "        return system_response\n",
    "    \n",
    "    def ranking(self, dm_result, chitchat_result):\n",
    "        self.result['DM_result'] = dm_result\n",
    "        self.result['E2E_result'] = list(chitchat_result)\n",
    "        dm_nlg = dm_result['NLG']\n",
    "        \n",
    "        if(not dm_nlg == []):\n",
    "            self.result['NLG'] = dm_nlg\n",
    "            return self.result\n",
    "        else:\n",
    "            score = chitchat_result[1]\n",
    "            print(score)\n",
    "            if(score>0.05):\n",
    "                self.result['NLG'] = chitchat_result[0]\n",
    "                return self.result\n",
    "            else:\n",
    "                self.result['NLG'] = 'Sorry, Once again.'\n",
    "                return self.result\n",
    "    \n",
    "    def run(self, q):\n",
    "        dm_result = self.task_oriented_dialog_system(q)\n",
    "        chitchat_result = self.chit_chat_dialog_system(q)\n",
    "        result = self.ranking(dm_result, chitchat_result)\n",
    "        return result           \n",
    "            "
   ]
  },
  {
   "cell_type": "code",
   "execution_count": 5,
   "id": "78161914-d95a-4388-aac3-d6918ad4e85b",
   "metadata": {},
   "outputs": [],
   "source": [
    "dialogsystem = DialogSystem()"
   ]
  },
  {
   "cell_type": "code",
   "execution_count": 6,
   "id": "206a7bbe-bdf4-4865-8a7a-0edae65ae9ae",
   "metadata": {},
   "outputs": [
    {
     "name": "stderr",
     "output_type": "stream",
     "text": [
      "C:\\Users\\ParkHanna\\anaconda3\\lib\\site-packages\\torchcrf\\__init__.py:305: UserWarning: where received a uint8 condition tensor. This behavior is deprecated and will be removed in a future version of PyTorch. Use a boolean condition instead. (Triggered internally at  C:\\cb\\pytorch_1000000000000\\work\\aten\\src\\ATen\\native\\TensorCompare.cpp:333.)\n",
      "  score = torch.where(mask[i].unsqueeze(1), next_score, score)\n"
     ]
    }
   ],
   "source": [
    "result = dialogsystem.run('안녕')"
   ]
  },
  {
   "cell_type": "code",
   "execution_count": 7,
   "id": "9062c08e-a0e2-45ca-bd1f-e2a6e4cc9b5a",
   "metadata": {},
   "outputs": [
    {
     "data": {
      "text/plain": [
       "{'DM_result': {'STATE': 'DS_REQ_USER_INPUT',\n",
       "  'SLOT': ['LOCATION^안녕'],\n",
       "  'NLU': {'INTENT': 'ood', 'SLOT': ['LOCATION^안녕']},\n",
       "  'NLG': ['안녕하세요! 날씨 미세먼지 여행 식당에 대해 물어봐주세요!']},\n",
       " 'E2E_result': ['안타깝네요.', 0.8144564032554626],\n",
       " 'NLG': ['안녕하세요! 날씨 미세먼지 여행 식당에 대해 물어봐주세요!']}"
      ]
     },
     "execution_count": 7,
     "metadata": {},
     "output_type": "execute_result"
    }
   ],
   "source": [
    "result"
   ]
  },
  {
   "cell_type": "code",
   "execution_count": 8,
   "id": "68c91645-ec30-46d8-a195-0763f52e1300",
   "metadata": {},
   "outputs": [],
   "source": [
    "result = dialogsystem.run('인천 맛집')"
   ]
  },
  {
   "cell_type": "code",
   "execution_count": 9,
   "id": "e8d729a7-7929-4742-8aac-0f324a5eec1b",
   "metadata": {},
   "outputs": [
    {
     "data": {
      "text/plain": [
       "{'DM_result': {'STATE': 'DS_REQ_USER_INPUT',\n",
       "  'SLOT': ['LOCATION^인천'],\n",
       "  'NLU': {'INTENT': 'restaurant', 'SLOT': ['LOCATION^인천']},\n",
       "  'NLG': ['인천 주변의 추천 식당은 OOOO입니다.']},\n",
       " 'E2E_result': ['하는데 바로가봐요한 거죠.', 0.4829944968223572],\n",
       " 'NLG': ['인천 주변의 추천 식당은 OOOO입니다.']}"
      ]
     },
     "execution_count": 9,
     "metadata": {},
     "output_type": "execute_result"
    }
   ],
   "source": [
    "result"
   ]
  },
  {
   "cell_type": "code",
   "execution_count": 10,
   "id": "8e4dc0d1-1bd5-4804-ac41-56ace08ecf81",
   "metadata": {},
   "outputs": [],
   "source": [
    "result =  dialogsystem.run('미세먼지 알려줘')"
   ]
  },
  {
   "cell_type": "code",
   "execution_count": 11,
   "id": "2f236067-ff25-4ea8-948c-078df3136f98",
   "metadata": {},
   "outputs": [
    {
     "data": {
      "text/plain": [
       "{'DM_result': {'STATE': 'DS_REQ_USER_INPUT',\n",
       "  'SLOT': [],\n",
       "  'NLU': {'INTENT': 'dust', 'SLOT': []},\n",
       "  'NLG': ['오늘 서울의 미세먼지는 좋음입니다.']},\n",
       " 'E2E_result': ['집에 잇몸약 집에 잇몸약 인생의 집에 잇몸약 인생의 마스크 아빠 나가세요 마스크 아빠 나가세요 마스크 아빠 나가세요 마스크 아빠 나가세요 마스크 아빠 나가세요 마스크 아빠 나가세요 마스크 아빠 나가세요 마스크 아빠 나가세요 마스크 아빠 나가세요 마스크 아빠 나가세요.',\n",
       "  0.635953426361084],\n",
       " 'NLG': ['오늘 서울의 미세먼지는 좋음입니다.']}"
      ]
     },
     "execution_count": 11,
     "metadata": {},
     "output_type": "execute_result"
    }
   ],
   "source": [
    "result"
   ]
  },
  {
   "cell_type": "code",
   "execution_count": 12,
   "id": "e8924b22-5735-4db9-9d29-9fc24c7c2a78",
   "metadata": {},
   "outputs": [],
   "source": [
    "result = dialogsystem.run('대전')"
   ]
  },
  {
   "cell_type": "code",
   "execution_count": 14,
   "id": "72a5bc4f-e83c-4ac6-bad3-15029c6a487b",
   "metadata": {},
   "outputs": [
    {
     "data": {
      "text/plain": [
       "{'DM_result': {'STATE': 'DS_REQ_USER_INPUT',\n",
       "  'SLOT': ['LOCATION^대전'],\n",
       "  'NLU': {'INTENT': 'ood', 'SLOT': ['LOCATION^대전']},\n",
       "  'NLG': ['오늘 대전의 미세먼지는 좋음입니다.']},\n",
       " 'E2E_result': ['상대에게 휘둘려선 안 돼요.', 0.4349207580089569],\n",
       " 'NLG': ['오늘 대전의 미세먼지는 좋음입니다.']}"
      ]
     },
     "execution_count": 14,
     "metadata": {},
     "output_type": "execute_result"
    }
   ],
   "source": [
    "result"
   ]
  },
  {
   "cell_type": "code",
   "execution_count": 15,
   "id": "cdafce88-429f-41e2-b0f2-c19fbcf38d33",
   "metadata": {},
   "outputs": [
    {
     "data": {
      "text/plain": [
       "{'DM_result': {'STATE': 'DS_REQ_USER_INPUT',\n",
       "  'SLOT': [],\n",
       "  'NLU': {'INTENT': 'weather', 'SLOT': []},\n",
       "  'NLG': ['오늘 서울의 날씨는 흐림입니다.']},\n",
       " 'E2E_result': ['나쁜놈 가보세요.', 0.5377364754676819],\n",
       " 'NLG': ['오늘 서울의 날씨는 흐림입니다.']}"
      ]
     },
     "execution_count": 15,
     "metadata": {},
     "output_type": "execute_result"
    }
   ],
   "source": [
    "dialogsystem.run(\"날씨 알려줘\")"
   ]
  },
  {
   "cell_type": "code",
   "execution_count": 16,
   "id": "5860df5c-5a04-4e69-b3ff-8730d26cb297",
   "metadata": {},
   "outputs": [
    {
     "name": "stdout",
     "output_type": "stream",
     "text": [
      "0.6368664503097534\n"
     ]
    }
   ],
   "source": [
    "result=dialogsystem.run(\"난 혼자인게 좋아\")"
   ]
  },
  {
   "cell_type": "code",
   "execution_count": 17,
   "id": "00540c89-564b-491c-ae40-506a2aa25815",
   "metadata": {},
   "outputs": [
    {
     "data": {
      "text/plain": [
       "{'DM_result': {'STATE': '', 'SLOT': '', 'NLU': {}, 'NLG': []},\n",
       " 'E2E_result': ['자꾸 같이 놀아요.', 0.6368664503097534],\n",
       " 'NLG': '자꾸 같이 놀아요.'}"
      ]
     },
     "execution_count": 17,
     "metadata": {},
     "output_type": "execute_result"
    }
   ],
   "source": [
    "result"
   ]
  },
  {
   "cell_type": "code",
   "execution_count": 18,
   "id": "5614e0e9-94ce-4a6e-9306-27a5dd9d759c",
   "metadata": {},
   "outputs": [
    {
     "name": "stdout",
     "output_type": "stream",
     "text": [
      "0.40709343552589417\n"
     ]
    }
   ],
   "source": [
    "result=dialogsystem.run(\"꽃을 좋아해\")"
   ]
  },
  {
   "cell_type": "code",
   "execution_count": 19,
   "id": "6207d71c-f5ea-4f01-af64-468b784144ad",
   "metadata": {},
   "outputs": [
    {
     "data": {
      "text/plain": [
       "{'DM_result': {'STATE': '', 'SLOT': '', 'NLU': {}, 'NLG': []},\n",
       " 'E2E_result': ['되었나봐요 정리해보세요기 잊지 함께 화장실 대화를 익숙해지지가 아니에요.',\n",
       "  0.40709343552589417],\n",
       " 'NLG': '되었나봐요 정리해보세요기 잊지 함께 화장실 대화를 익숙해지지가 아니에요.'}"
      ]
     },
     "execution_count": 19,
     "metadata": {},
     "output_type": "execute_result"
    }
   ],
   "source": [
    "result"
   ]
  },
  {
   "cell_type": "code",
   "execution_count": null,
   "id": "cfe8c35b-51cc-40f6-82cd-46522d2516f2",
   "metadata": {},
   "outputs": [
    {
     "name": "stdin",
     "output_type": "stream",
     "text": [
      " 안녕\n"
     ]
    },
    {
     "name": "stdout",
     "output_type": "stream",
     "text": [
      "['안녕하세요! 날씨 미세먼지 여행 식당에 대해 물어봐주세요!']\n"
     ]
    },
    {
     "name": "stdin",
     "output_type": "stream",
     "text": [
      " 오늘 미세먼지 알려줘\n"
     ]
    },
    {
     "name": "stdout",
     "output_type": "stream",
     "text": [
      "['오늘 서울의 미세먼지는 나쁨입니다.']\n"
     ]
    },
    {
     "name": "stdin",
     "output_type": "stream",
     "text": [
      " 대전은?\n"
     ]
    },
    {
     "name": "stdout",
     "output_type": "stream",
     "text": [
      "0.5336873531341553\n",
      "고민하고 있다면 버릴 줄도 애교가 줬하세요.\n"
     ]
    },
    {
     "name": "stdin",
     "output_type": "stream",
     "text": [
      " 대전\n"
     ]
    },
    {
     "name": "stdout",
     "output_type": "stream",
     "text": [
      "['오늘 대전의 미세먼지는 좋음입니다.']\n"
     ]
    },
    {
     "name": "stdin",
     "output_type": "stream",
     "text": [
      " 호호\n"
     ]
    },
    {
     "name": "stdout",
     "output_type": "stream",
     "text": [
      "0.2303476482629776\n",
      "술 난 행복 만나면 못 작은 난 후가 난 후가 난 후가 난 후가 난 후가 난 후가 난 후가 난 후가 난 후가 난 후가 난 후가 난 후가 난 후가 난 후가 난 후가 난 후가 난 후가 난 후가 난 후가 난 후가 난 후가 난 후가\n"
     ]
    },
    {
     "name": "stdin",
     "output_type": "stream",
     "text": [
      " 하하\n"
     ]
    },
    {
     "name": "stdout",
     "output_type": "stream",
     "text": [
      "0.4603741466999054\n",
      "그래도 바라는 다시 만날 거예요.\n"
     ]
    },
    {
     "name": "stdin",
     "output_type": "stream",
     "text": [
      " 그래\n"
     ]
    },
    {
     "name": "stdout",
     "output_type": "stream",
     "text": [
      "0.5119590163230896\n",
      "다른 귀찮아 꾸준히 돌려보세요.\n"
     ]
    },
    {
     "name": "stdin",
     "output_type": "stream",
     "text": [
      " 알았어\n"
     ]
    },
    {
     "name": "stdout",
     "output_type": "stream",
     "text": [
      "0.6008734703063965\n",
      "저도 하나니까요.\n"
     ]
    }
   ],
   "source": [
    "dialogsystem.dm.clear()\n",
    "\n",
    "q = \"\"\n",
    "q = input()\n",
    "while(q!='end'):\n",
    "    result = dialogsystem.run(q)\n",
    "    print(result['NLG'])\n",
    "    q = input()\n",
    "    \n",
    "dialogsystem.dm.clear()"
   ]
  },
  {
   "cell_type": "code",
   "execution_count": null,
   "id": "6cbc0181-7d46-41de-889b-1b597aafe3c6",
   "metadata": {},
   "outputs": [],
   "source": []
  }
 ],
 "metadata": {
  "kernelspec": {
   "display_name": "Python 3 (ipykernel)",
   "language": "python",
   "name": "python3"
  },
  "language_info": {
   "codemirror_mode": {
    "name": "ipython",
    "version": 3
   },
   "file_extension": ".py",
   "mimetype": "text/x-python",
   "name": "python",
   "nbconvert_exporter": "python",
   "pygments_lexer": "ipython3",
   "version": "3.9.16"
  }
 },
 "nbformat": 4,
 "nbformat_minor": 5
}
