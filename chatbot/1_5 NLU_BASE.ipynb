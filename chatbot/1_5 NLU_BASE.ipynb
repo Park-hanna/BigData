{
 "cells": [
  {
   "cell_type": "code",
   "execution_count": 1,
   "id": "c27b2741-11f7-49f4-bbef-d0f04608ac88",
   "metadata": {},
   "outputs": [],
   "source": [
    "import os\n",
    "import sys\n",
    "import json\n",
    "import torch\n",
    "import random\n",
    "\n",
    "from src.model import BiLSTM_CRF, MakeEmbed, textCNN, DAN, EpochLogger, save\n",
    "from src.dataset import Preprocessing, MakeDataset"
   ]
  },
  {
   "cell_type": "code",
   "execution_count": 11,
   "id": "3bee106a-3a3e-4831-90ee-ea0904a43141",
   "metadata": {},
   "outputs": [],
   "source": [
    "class NaturalLanguageUnderstanding:\n",
    "    \n",
    "    def __init__(self):\n",
    "        self.dataset = MakeDataset()\n",
    "        self.embed = MakeEmbed()\n",
    "        self.embed.load_word2vec()\n",
    "        \n",
    "        self.weights = self.embed.word2vec.wv.vectors\n",
    "        self.weights = torch.FloatTensor(self.weights)\n",
    "        \n",
    "        self.intent_clsf = textCNN(self.weights, 256, [3,4,5], 0.5, len(self.dataset.intent_label))\n",
    "        self.slot_tagger = BiLSTM_CRF(self.weights, self.dataset.entity_label, 256, 128)\n",
    "        self.ood_detector = DAN(self.weights, 256, 0.5, 2)\n",
    "        \n",
    "    def init_NLU_result(self): #NLU result\n",
    "        NLU_result = {\n",
    "            'intent' : \"\",\n",
    "            'SLOT' :[\n",
    "                \n",
    "            ]\n",
    "        }\n",
    "        return NLU_result\n",
    "    \n",
    "    def model_load(self, intent_path, slot_path, ood_path):\n",
    "        self.intent_clsf.load_state_dict(torch.load(intent_path))\n",
    "        self.slot_tagger.load_state_dict(torch.load(slot_path))\n",
    "        self.ood_detector.load_state_dict(torch.load(ood_path))\n",
    "        self.intent_clsf.eval()\n",
    "        self.slot_tagger.eval()\n",
    "        self.ood_detector.eval()\n",
    "        \n",
    "    def predict(self, query):\n",
    "        x = self.dataset.prep.pad_idx_sequencing(self.embed.query2idx(self.dataset.tokenize(query)))\n",
    "        \n",
    "        x = torch.tensor(x)\n",
    "        '''\n",
    "        ood detector\n",
    "        '''\n",
    "        f = self.ood_detector(x.unsqueeze(0))\n",
    "        ood = torch.argmax(f).tolist()\n",
    "        print(ood)\n",
    "        if(ood):\n",
    "            '''\n",
    "            intent clsf\n",
    "            '''\n",
    "            f = self.intent_clsf(x.unsqueeze(0))\n",
    "            \n",
    "            intent = self.dataset.intents[torch.argmax(f).tolist()]\n",
    "            \n",
    "        else:\n",
    "            intent = 'ood'\n",
    "        '''\n",
    "        slot tagger\n",
    "        '''\n",
    "        \n",
    "        f = self.slot_tagger(x.unsqueeze(0))\n",
    "        \n",
    "        mask = torch.where(x>0, torch.tensor([1.]), torch.tensor([0.])).type(torch.uint8)\n",
    "        \n",
    "        predict = self.slot_tagger.decode(f, mask.view(1, -1))\n",
    "        return intent, predict\n",
    "    \n",
    "    def convert_nlu_result(self, query, intent, predict):\n",
    "        NLU_result = self.init_NLU_result()\n",
    "        x_token = query.split()\n",
    "        \n",
    "        # slot taggin token back processing\n",
    "        '''\n",
    "        q : 제주도 맛집\n",
    "        NLU.nlu_predict : ['restaurant', [[12,0]]]\n",
    "                                            [12, 0] = [S-LOCATION , 0]\n",
    "        '''\n",
    "        slots = [] # back processing after SLOTS save\n",
    "        BIE = [] # back processing need SLOTS\n",
    "        prev = \"\";\n",
    "        for i, slot in enumerate([self.dataset.entitys[p] for p in predict[0]]):\n",
    "            name = slot[2:]\n",
    "            \n",
    "            if('S-' in slot):\n",
    "                if(BIE != []):\n",
    "                    '''\n",
    "                    if B-Location, I-Location, S-Date:\n",
    "                    S-Date before BIE saved B-Location and I-Location saveing\n",
    "                    '''\n",
    "                    slots.append(prec[2:] + \"^\"+\" \".join(BIE))\n",
    "                    BIE = []\n",
    "                slots.append(name+\"^\"+x_token[i])\n",
    "                \n",
    "            elif('B-' in slot):\n",
    "                '''\n",
    "                after append SLOT will appear then save the BIE\n",
    "                '''\n",
    "                BIE.append(x_token[i])\n",
    "                prev = slot\n",
    "            \n",
    "            elif('I-' in slot and \"B\" in prev):\n",
    "                '''\n",
    "                after append SLOT will appear then save the BIE\n",
    "                '''\n",
    "                BIE.append(x_token[i])\n",
    "                prev = slot\n",
    "            \n",
    "            elif('E-' in slot and ('I' in prev or 'B' in prev)):\n",
    "                '''\n",
    "                arrive the SLOT end\n",
    "                then saved the BIE for TOKEN are join(save) from SLOTS\n",
    "                '''\n",
    "                BIE.append(x_token[i])\n",
    "                slots.append(name+'^'+' '.join(BIE))\n",
    "                BIE = []\n",
    "            \n",
    "            else:\n",
    "                '''\n",
    "                if 0 have the BIE then save\n",
    "                '''\n",
    "                if(BIE != []):\n",
    "                    slots.append(prev[2:] + \"^\"+\" \".join(BIE))\n",
    "                    BIE = []\n",
    "                    \n",
    "        NLU_result['INTENT'] = intent\n",
    "        NLU_result['SLOT'] = slots\n",
    "        return NLU_result\n",
    "    \n",
    "    def run(self, query):\n",
    "        intent, predict = self.predict(query)\n",
    "        self.nlu_predict = [intent, predict]\n",
    "        NLU_result = self.convert_nlu_result(query, intent, predict)\n",
    "        return NLU_result\n",
    "    \n",
    "    def print_nlu_result(self, nlu_result):\n",
    "        print('speech intention : '+nlu_result.get('INTENT'))\n",
    "        print('ignition object : ')\n",
    "        for slot_concat in nlu_result.get('SLOT'):\n",
    "            slot_name = slot_concat.split('^')[0]\n",
    "            slot_value = slot_concat.split('^')[1]\n",
    "            print('     '+slot_name+\" : \"+slot_value)"
   ]
  },
  {
   "cell_type": "code",
   "execution_count": 12,
   "id": "9cc47e8c-20d9-49e7-a8ef-fc31963ca251",
   "metadata": {},
   "outputs": [],
   "source": [
    "intent_pretrain_path = \"./chatbot_data/pretraining/1_intent_clsf_model/intent_clsf_99.585_steps_7.pt\"\n",
    "entity_pretrain_path = \"./chatbot_data/pretraining/1_entity_recog_model/entity_recog_20.89_steps_2.pt\"\n",
    "ood_pretrain_path = \"./chatbot_data/pretraining/1_ood_clsf_model/ood_clsf_99.663_steps_4.pt\""
   ]
  },
  {
   "cell_type": "code",
   "execution_count": 13,
   "id": "2b6e9b0f-7887-4326-8787-5cdcbea9a619",
   "metadata": {},
   "outputs": [],
   "source": [
    "NLU = NaturalLanguageUnderstanding()\n",
    "\n",
    "NLU.model_load(intent_pretrain_path, entity_pretrain_path, ood_pretrain_path)"
   ]
  },
  {
   "cell_type": "code",
   "execution_count": 14,
   "id": "8f4ca563-a7f4-4afe-b5b5-ca9201683e2a",
   "metadata": {},
   "outputs": [
    {
     "name": "stdout",
     "output_type": "stream",
     "text": [
      "1\n",
      "speech intention : restaurant\n",
      "ignition object : \n",
      "     LOCATION : 제주도\n"
     ]
    },
    {
     "name": "stderr",
     "output_type": "stream",
     "text": [
      "C:\\Users\\ParkHanna\\anaconda3\\lib\\site-packages\\torchcrf\\__init__.py:305: UserWarning: where received a uint8 condition tensor. This behavior is deprecated and will be removed in a future version of PyTorch. Use a boolean condition instead. (Triggered internally at  C:\\cb\\pytorch_1000000000000\\work\\aten\\src\\ATen\\native\\TensorCompare.cpp:333.)\n",
      "  score = torch.where(mask[i].unsqueeze(1), next_score, score)\n"
     ]
    }
   ],
   "source": [
    "NLU_result = NLU.run('제주도 맛집')\n",
    "\n",
    "NLU.print_nlu_result(NLU_result)"
   ]
  },
  {
   "cell_type": "code",
   "execution_count": 15,
   "id": "b7920571-024f-4e22-b8a9-d6a0b6f1e7e0",
   "metadata": {},
   "outputs": [
    {
     "name": "stdout",
     "output_type": "stream",
     "text": [
      "1\n",
      "speech intention : weather\n",
      "ignition object : \n",
      "     DATE : 오늘\n",
      "     LOCATION : 제주도\n"
     ]
    }
   ],
   "source": [
    "NLU_result = NLU.run('오늘 제주도 날씨')\n",
    "\n",
    "NLU.print_nlu_result(NLU_result)"
   ]
  },
  {
   "cell_type": "code",
   "execution_count": 19,
   "id": "95165e9a-2553-4e9d-81ef-6a98098075b1",
   "metadata": {},
   "outputs": [
    {
     "name": "stdout",
     "output_type": "stream",
     "text": [
      "1\n",
      "speech intention : travel\n",
      "ignition object : \n",
      "     LOCATION : 제주도\n"
     ]
    }
   ],
   "source": [
    "NLU_result = NLU.run('제주도')\n",
    "\n",
    "NLU.print_nlu_result(NLU_result)"
   ]
  },
  {
   "cell_type": "code",
   "execution_count": 20,
   "id": "0871a1d3-18ee-4741-88a0-253c617e017a",
   "metadata": {},
   "outputs": [
    {
     "name": "stdout",
     "output_type": "stream",
     "text": [
      "1\n",
      "speech intention : dust\n",
      "ignition object : \n",
      "     DATE : 내일\n",
      "     LOCATION : 제주도\n"
     ]
    }
   ],
   "source": [
    "NLU_result = NLU.run('나 내일 제주도 여행가는데 미세먼지 알려줘')\n",
    "\n",
    "NLU.print_nlu_result(NLU_result)"
   ]
  },
  {
   "cell_type": "code",
   "execution_count": 22,
   "id": "1ccc5229-9f11-4f12-af5d-742cc87f2f84",
   "metadata": {},
   "outputs": [
    {
     "name": "stdout",
     "output_type": "stream",
     "text": [
      "1\n",
      "speech intention : dust\n",
      "ignition object : \n",
      "     DATE : 이번 주\n",
      "     LOCATION : 제주도\n"
     ]
    }
   ],
   "source": [
    "NLU_result = NLU.run('나 이번 주 제주도 여행가는데 미세먼지 알려줘')\n",
    "\n",
    "NLU.print_nlu_result(NLU_result)"
   ]
  },
  {
   "cell_type": "code",
   "execution_count": 23,
   "id": "f3a1d91e-d241-485d-b969-e8d01c39d861",
   "metadata": {},
   "outputs": [
    {
     "data": {
      "text/plain": [
       "['dust', [[0, 1, 5, 12, 0, 0, 0]]]"
      ]
     },
     "execution_count": 23,
     "metadata": {},
     "output_type": "execute_result"
    }
   ],
   "source": [
    "NLU.nlu_predict"
   ]
  }
 ],
 "metadata": {
  "kernelspec": {
   "display_name": "Python 3 (ipykernel)",
   "language": "python",
   "name": "python3"
  },
  "language_info": {
   "codemirror_mode": {
    "name": "ipython",
    "version": 3
   },
   "file_extension": ".py",
   "mimetype": "text/x-python",
   "name": "python",
   "nbconvert_exporter": "python",
   "pygments_lexer": "ipython3",
   "version": "3.9.16"
  }
 },
 "nbformat": 4,
 "nbformat_minor": 5
}
