{
 "cells": [
  {
   "cell_type": "code",
   "execution_count": 1,
   "id": "6a460f2d-8b58-4d49-9b31-52b825de2790",
   "metadata": {},
   "outputs": [],
   "source": [
    "import re\n",
    "import torch\n",
    "\n",
    "from src.model import Tformer, save\n",
    "from src.dataset import Preprocessing, MakeDataset"
   ]
  },
  {
   "cell_type": "code",
   "execution_count": 27,
   "id": "74677279-ba63-4574-b522-d628bb95eb60",
   "metadata": {},
   "outputs": [],
   "source": [
    "class E2E_dialog:\n",
    "    def __init__(self, dataset, model_path):\n",
    "        self.vocab = dataset.transformers_tokenizer\n",
    "        self.vocab_size = dataset.transformers_tokenizer.vocab_size()\n",
    "        \n",
    "        self.model = Tformer(num_tokens = self.vocab_size, dim_model = 256, num_heads = 8, dff = 512, num_layers = 2, dropout_p = 0.1)\n",
    "        device = torch.device('cpu')\n",
    "        self.model.load_state_dict(torch.load(model_path, map_location = device))\n",
    "        self.model.eval()\n",
    "        self.MAX_LENGTH = 50\n",
    "        \n",
    "        \n",
    "    def preprocess_sentence(self, sentence):\n",
    "        sentence = re.sub(r\"([?.!,])\", r\"\\1\", sentence)\n",
    "        sentence = sentence.strip()\n",
    "        return sentence\n",
    "    \n",
    "    def evaluate(self, sentence):\n",
    "        sentence = self.preprocess_sentence(sentence)\n",
    "        input = torch.tensor([[2] + self.vocab.encode_as_ids(sentence) + [3]])\n",
    "        output = torch.tensor([[2]])\n",
    "        \n",
    "        # decode predict start\\\n",
    "        ps = []\n",
    "        for i in range(self.MAX_LENGTH):\n",
    "            src_mask = self.model.generate_square_subsequent_mask(input.shape[1])\n",
    "            tgt_mask = self.model.generate_square_subsequent_mask(output.shape[1])\n",
    "\n",
    "            src_padding_mask = self.model.gen_attention_mask(input)\n",
    "            tgt_padding_mask = self.model.gen_attention_mask(output)\n",
    "\n",
    "            predictions = self.model(input, output, src_mask, tgt_mask, src_padding_mask, tgt_padding_mask).transpose(0,1)\n",
    "            \n",
    "            # get current point predict word\n",
    "            predictions = predictions[:, -1:, :]\n",
    "            predictions = torch.softmax(predictions.view(-1).cpu(), dim=0)\n",
    "            predictions = torch.max(predictions, axis = -1)\n",
    "            predicted_p = predictions.values\n",
    "            ps.append(predicted_p)\n",
    "            predicted_id =predictions.indices.view(1,1)\n",
    "\n",
    "            \n",
    "            # if last point token is end token prediction end\n",
    "            if torch.equal(predicted_id[0][0], torch.tensor(3)):\n",
    "                break\n",
    "                \n",
    "            # output fuction conect the last point precition word \n",
    "            # this will use to decode input data\n",
    "            output = torch.cat([output, predicted_id], axis=1)\n",
    "\n",
    "        return torch.squeeze(output, axis=0).cpu().numpy(), (sum(ps)/len(ps)).detach().numpy()\n",
    "\n",
    "    def predict(self, sentence):\n",
    "        prediction, predicted_sentence_p = self.evaluate(sentence)\n",
    "        predicted_sentence = self.vocab.Decode(list(map(int,[i for i in prediction if i < self.vocab_size])))\n",
    "\n",
    "        print('Input: {}'.format(sentence))\n",
    "        print('Output: {}'.format(predicted_sentence))\n",
    "\n",
    "        return predicted_sentence, predicted_sentence_p"
   ]
  },
  {
   "cell_type": "code",
   "execution_count": 28,
   "id": "98f7efb4-d326-4950-b7bb-77016bc3f179",
   "metadata": {},
   "outputs": [],
   "source": [
    "chitchat_pretrain_path = './chatbot_data/pretraining/4_chitchat_trasnformer_model/chitchat_transformer_0.035401_steps_69.pt'"
   ]
  },
  {
   "cell_type": "code",
   "execution_count": 29,
   "id": "a568db39-4e51-4e2d-b41d-39ffe71ee323",
   "metadata": {},
   "outputs": [],
   "source": [
    "dataset = MakeDataset()\n",
    "e2e = E2E_dialog(dataset, chitchat_pretrain_path)"
   ]
  },
  {
   "cell_type": "code",
   "execution_count": 33,
   "id": "25f3c2da-fe30-468e-9406-a81537fb9dbf",
   "metadata": {},
   "outputs": [
    {
     "name": "stdout",
     "output_type": "stream",
     "text": [
      "Input: 오\n",
      "Output: 제가 들어드릴게요.\n",
      "CPU times: total: 62.5 ms\n",
      "Wall time: 24.9 ms\n"
     ]
    }
   ],
   "source": [
    "%%time\n",
    "s, p = e2e.predict('오')"
   ]
  },
  {
   "cell_type": "code",
   "execution_count": 31,
   "id": "e511f11a-7dc8-4701-a89d-17709653f476",
   "metadata": {},
   "outputs": [
    {
     "data": {
      "text/plain": [
       "0.4220072329044342"
      ]
     },
     "execution_count": 31,
     "metadata": {},
     "output_type": "execute_result"
    }
   ],
   "source": [
    "float(p)"
   ]
  }
 ],
 "metadata": {
  "kernelspec": {
   "display_name": "Python 3 (ipykernel)",
   "language": "python",
   "name": "python3"
  },
  "language_info": {
   "codemirror_mode": {
    "name": "ipython",
    "version": 3
   },
   "file_extension": ".py",
   "mimetype": "text/x-python",
   "name": "python",
   "nbconvert_exporter": "python",
   "pygments_lexer": "ipython3",
   "version": "3.9.16"
  }
 },
 "nbformat": 4,
 "nbformat_minor": 5
}
